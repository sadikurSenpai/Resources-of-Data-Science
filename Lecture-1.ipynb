{
 "cells": [
  {
   "cell_type": "code",
   "execution_count": 1,
   "id": "389f4d43",
   "metadata": {},
   "outputs": [
    {
     "name": "stdout",
     "output_type": "stream",
     "text": [
      "<class 'int'>\n",
      "<class 'float'>\n",
      "<class 'str'>\n",
      "<class 'bool'>\n"
     ]
    }
   ],
   "source": [
    "# datatypes\n",
    "x = 2\n",
    "print( type(x) )\n",
    "\n",
    "x = 2.5\n",
    "print( type(x) )\n",
    "\n",
    "x = 'Sadikur Senpai'\n",
    "print( type(x) )\n",
    "\n",
    "x = True\n",
    "print( type(x) )"
   ]
  },
  {
   "cell_type": "code",
   "execution_count": 2,
   "id": "2c0d77f1",
   "metadata": {},
   "outputs": [
    {
     "name": "stdout",
     "output_type": "stream",
     "text": [
      "Sadikur Senpai\n"
     ]
    }
   ],
   "source": [
    "# python is case-sensitive, 'name' and 'Name' are different;   \n",
    "# '' & \"\" work same\n",
    "name = \"Sadikur\" \n",
    "Name = 'Senpai'\n",
    "\n",
    "print(name, Name)"
   ]
  },
  {
   "cell_type": "code",
   "execution_count": 3,
   "id": "0ca03eca",
   "metadata": {},
   "outputs": [
    {
     "ename": "SyntaxError",
     "evalue": "invalid decimal literal (3714318713.py, line 6)",
     "output_type": "error",
     "traceback": [
      "\u001b[1;36m  Cell \u001b[1;32mIn[3], line 6\u001b[1;36m\u001b[0m\n\u001b[1;33m    2myvar = 'John'\u001b[0m\n\u001b[1;37m    ^\u001b[0m\n\u001b[1;31mSyntaxError\u001b[0m\u001b[1;31m:\u001b[0m invalid decimal literal\n"
     ]
    }
   ],
   "source": [
    "# Illegal variable names:\n",
    "# 2myvar = \"John\"\n",
    "# my−var = \"John\"\n",
    "# my var = \"John\n",
    "\n",
    "2myvar = 'John'\n",
    "print(2myvar)"
   ]
  },
  {
   "cell_type": "code",
   "execution_count": 1,
   "id": "73031565",
   "metadata": {},
   "outputs": [
    {
     "name": "stdout",
     "output_type": "stream",
     "text": [
      "2.5\n",
      "2\n"
     ]
    }
   ],
   "source": [
    "# typecasting\n",
    "x = 2.5\n",
    "print(x)\n",
    "x = int(x)\n",
    "print(x)"
   ]
  },
  {
   "cell_type": "code",
   "execution_count": 2,
   "id": "e358a165",
   "metadata": {},
   "outputs": [
    {
     "name": "stdout",
     "output_type": "stream",
     "text": [
      "Enter a number : 7\n",
      "<class 'str'>\n",
      "<class 'int'>\n",
      "Enter a number : 7\n",
      "<class 'int'>\n"
     ]
    }
   ],
   "source": [
    "# user input\n",
    "num = input(\"Enter a number : \")   # by taking user input we get string, but we can typecast it as we wish\n",
    "print( type(num) )   \n",
    "\n",
    "num = int(num)\n",
    "print( type(num) )\n",
    "\n",
    "# other way to do it\n",
    "num = int(input(\"Enter a number : \"))    \n",
    "print( type(num) )"
   ]
  },
  {
   "cell_type": "code",
   "execution_count": 4,
   "id": "bd79553d",
   "metadata": {},
   "outputs": [
    {
     "name": "stdout",
     "output_type": "stream",
     "text": [
      "16\n",
      "4\n",
      "60\n",
      "1000000\n",
      "1.6666666666666667\n",
      "1\n",
      "4\n"
     ]
    }
   ],
   "source": [
    "# Arithmetic operators\n",
    "ans = 10 + 6      # Addition\n",
    "print(ans)\n",
    "ans = 10 - 6      # Subtraction\n",
    "print(ans)\n",
    "ans = 10 * 6      # Multiplication\n",
    "print(ans)\n",
    "ans = 10 ** 6     # Exponentiation\n",
    "print(ans)\n",
    "ans = 10 / 6      # Division\n",
    "print(ans)\n",
    "ans = 10 // 6     # Floor division\n",
    "print(ans)\n",
    "ans = 10 % 6      # Modulus\n",
    "print(ans)"
   ]
  },
  {
   "cell_type": "code",
   "execution_count": 5,
   "id": "03f3d8be",
   "metadata": {},
   "outputs": [
    {
     "name": "stdout",
     "output_type": "stream",
     "text": [
      "8\n"
     ]
    }
   ],
   "source": [
    "x = 5\n",
    "x += 3  # x += means x = x +\n",
    "print(x)  "
   ]
  },
  {
   "cell_type": "code",
   "execution_count": 6,
   "id": "0197ca8d",
   "metadata": {},
   "outputs": [
    {
     "name": "stdout",
     "output_type": "stream",
     "text": [
      "Enter the length of a rectangle : 7\n",
      "Enter the breadth of a rectangle : 2\n",
      "The area of the rectangle is 14\n"
     ]
    }
   ],
   "source": [
    "# write a program to calculate area of a rectangle\n",
    "length = int(input(\"Enter the length of a rectangle : \"))\n",
    "breadth = int(input(\"Enter the breadth of a rectangle : \"))\n",
    "area = length * breadth\n",
    "print(f\"The area of the rectangle is {area}\")"
   ]
  },
  {
   "cell_type": "code",
   "execution_count": 7,
   "id": "27b75d69",
   "metadata": {},
   "outputs": [
    {
     "name": "stdout",
     "output_type": "stream",
     "text": [
      "Enter a number : 7\n",
      "Odd!\n"
     ]
    }
   ],
   "source": [
    "# write a program to check whether a number is even or odd\n",
    "num = int(input(\"Enter a number : \"))\n",
    "if num%2 == 0:\n",
    "    print(\"Even!\")\n",
    "else:\n",
    "    print(\"Odd!\")"
   ]
  },
  {
   "cell_type": "code",
   "execution_count": 8,
   "id": "4b6e5dff",
   "metadata": {},
   "outputs": [
    {
     "name": "stdout",
     "output_type": "stream",
     "text": [
      "Enter the first number : 10\n",
      "Enter the second number : 30\n",
      "Enter the third number : 20\n",
      "Maximum : 30\n"
     ]
    }
   ],
   "source": [
    "# write a program to find maximum among three numbers\n",
    "first_num = int(input(\"Enter the first number : \"))\n",
    "second_num = int(input(\"Enter the second number : \"))\n",
    "third_num = int(input(\"Enter the third number : \"))\n",
    "\n",
    "if first_num >= second_num and first_num >= third_num:\n",
    "    print(f\"Maximum : {first_num}\")\n",
    "elif second_num >= third_num:\n",
    "    print(f\"Maximum : {second_num}\")\n",
    "else:\n",
    "    print(f\"Maximum : {third_num}\")"
   ]
  },
  {
   "cell_type": "code",
   "execution_count": 9,
   "id": "4270c14a",
   "metadata": {},
   "outputs": [
    {
     "name": "stdout",
     "output_type": "stream",
     "text": [
      "1\n",
      "2\n",
      "3\n",
      "4\n",
      "5\n"
     ]
    }
   ],
   "source": [
    "i = 1\n",
    "while i <= 5:\n",
    "    print(i)\n",
    "    i += 1"
   ]
  },
  {
   "cell_type": "code",
   "execution_count": 11,
   "id": "2e913336",
   "metadata": {},
   "outputs": [
    {
     "name": "stdout",
     "output_type": "stream",
     "text": [
      "1\n",
      "2\n",
      "3\n",
      "4\n",
      "5\n"
     ]
    }
   ],
   "source": [
    "for i in range(1,6):\n",
    "    print(i)"
   ]
  },
  {
   "cell_type": "code",
   "execution_count": 12,
   "id": "ab2feb3a",
   "metadata": {},
   "outputs": [
    {
     "name": "stdout",
     "output_type": "stream",
     "text": [
      "1050\n"
     ]
    }
   ],
   "source": [
    "# Write a python program to find the sum of all numbers between 50 and 100, which are divisible by 3 and\n",
    "# not divisible by 5.\n",
    "sum = 0\n",
    "for num in range(50,101):\n",
    "    if num%3 == 0 and num%5 != 0 :\n",
    "        sum += num\n",
    "print(sum)"
   ]
  },
  {
   "cell_type": "code",
   "execution_count": 15,
   "id": "4bdbf0dd",
   "metadata": {},
   "outputs": [
    {
     "name": "stdout",
     "output_type": "stream",
     "text": [
      "Enter Nth term : 10\n",
      "0 1 1 2 3 5 8 13 21 34 "
     ]
    }
   ],
   "source": [
    "# Write a python program to generate Fibonacci series.\n",
    "n = int(input(\"Enter Nth term : \"))\n",
    "first_num = 0\n",
    "second_num = 1\n",
    "print(f\"{first_num} {second_num} \", end = \"\")\n",
    "n -= 2\n",
    "for i in range(n):\n",
    "    third_num = first_num + second_num\n",
    "    print(f\"{third_num} \", end = \"\")\n",
    "    first_num = second_num\n",
    "    second_num = third_num\n"
   ]
  },
  {
   "cell_type": "code",
   "execution_count": 18,
   "id": "f7454cb1",
   "metadata": {},
   "outputs": [
    {
     "name": "stdout",
     "output_type": "stream",
     "text": [
      "5\n"
     ]
    }
   ],
   "source": [
    "# Write a python program to add two numbers\n",
    "def add_these(n1, n2):\n",
    "    return n1+n2\n",
    "\n",
    "print(add_these(2,3))"
   ]
  },
  {
   "cell_type": "code",
   "execution_count": 20,
   "id": "33b6eb75",
   "metadata": {},
   "outputs": [
    {
     "name": "stdout",
     "output_type": "stream",
     "text": [
      "14\n"
     ]
    }
   ],
   "source": [
    "# Write a python program to add multiple numbers\n",
    "def add_these(*n):\n",
    "    summation = 0\n",
    "    for num in n:\n",
    "        summation += num\n",
    "    return summation\n",
    "\n",
    "print(add_these(2,3,4,5))"
   ]
  }
 ],
 "metadata": {
  "kernelspec": {
   "display_name": "Python 3 (ipykernel)",
   "language": "python",
   "name": "python3"
  },
  "language_info": {
   "codemirror_mode": {
    "name": "ipython",
    "version": 3
   },
   "file_extension": ".py",
   "mimetype": "text/x-python",
   "name": "python",
   "nbconvert_exporter": "python",
   "pygments_lexer": "ipython3",
   "version": "3.11.5"
  }
 },
 "nbformat": 4,
 "nbformat_minor": 5
}
